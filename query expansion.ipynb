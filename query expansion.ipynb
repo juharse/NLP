{
 "cells": [
  {
   "cell_type": "code",
   "execution_count": 1,
   "id": "a0c5bf69",
   "metadata": {},
   "outputs": [],
   "source": [
    "import string\n",
    "import sys\n",
    "import re \n",
    "import matplotlib as mpl\n",
    "import matplotlib.pyplot as plt\n",
    "import nltk\n",
    "import numpy as np\n",
    "import pandas as pd\n",
    "\n",
    "from adjustText import adjust_text\n",
    "from elasticsearch import Elasticsearch, helpers\n",
    "from elasticsearch_dsl import Search, Q\n",
    "from gensim.models import word2vec"
   ]
  },
  {
   "cell_type": "code",
   "execution_count": 2,
   "id": "4f3c0bb3",
   "metadata": {},
   "outputs": [],
   "source": [
    "def normalize(string):\n",
    "        #\"\"\"Preprocessing punctuation marks\n",
    "        string=string.replace(\"ሠ\",\"ሰ\")\n",
    "        string=string.replace(\"ሃ\", \"ሀ\")\n",
    "        string=string.replace(\"ሐ\", \"ሀ\")\n",
    "        string=string.replace(\"ሓ\", \"ሀ\")\n",
    "        string=string.replace(\"ኅ\", \"ሀ\")\n",
    "        string=string.replace(\"ኃ\", \"ሀ\")\n",
    "        string=string.replace(\"ኋ\", \"ኋ\")\n",
    "        string=string.replace(\"ሗ\", \"ኋ\")\n",
    "        string=string.replace(\"ኁ\", \"ሁ\")\n",
    "        string=string.replace(\"ኅ\", \"ህ\")\n",
    "        string=string.replace(\"ኂ\", \"ሂ\")\n",
    "        string=string.replace(\"ኄ\", \"ሄ\")\n",
    "        string=string.replace(\"ኆ\", \"ሆ\")\n",
    "        string=string.replace(\"ሑ\", \"ሁ\")\n",
    "        string=string.replace(\"ሒ\", \"ሂ\")\n",
    "        string=string.replace(\"ሔ\", \"ሄ\")\n",
    "        string=string.replace(\"ሕ\", \"ህ\")\n",
    "        string=string.replace(\"ሡ\", \"ሱ\")\n",
    "        string=string.replace(\"ሖ\", \"ሆ\")\n",
    "        string=string.replace(\"ሢ\", \"ሲ\")\n",
    "        string=string.replace(\"ሣ\", \"ሳ\")\n",
    "        string=string.replace(\"ሤ\", \"ሴ\")\n",
    "        string=string.replace(\"ሥ\", \"ስ\")\n",
    "        string=string.replace(\"ሦ\", \"ሶ\")\n",
    "        string=string.replace(\"ሼ\", \"ሸ\")\n",
    "        string=string.replace(\"ቼ\", \"ቸ\")\n",
    "        string=string.replace(\"ዬ\", \"የ\")\n",
    "        string=string.replace(\"ዲ\", \"ድ\")\n",
    "        string=string.replace(\"ጄ\", \"ጀ\")\n",
    "        string=string.replace(\"ጸ\", \"ፀ\")\n",
    "        string=string.replace(\"ጹ\", \"ፁ\")                    \n",
    "        string=string.replace(\"ጺ\", \"ፂ\")\n",
    "        string=string.replace(\"ጻ\", \"ፃ\")\n",
    "        string=string.replace(\"ጼ\", \"ፄ\")\n",
    "        string=string.replace(\"ጽ\", \"ፅ\")\n",
    "        string=string.replace(\"ጾ\", \"ፆ\")\n",
    "        string=string.replace(\"ዉ\", \"ው\")\n",
    "        string=string.replace(\"ዴ\", \"ደ\")\n",
    "        string=string.replace(\"ቺ\", \"ች\")\n",
    "        string=string.replace(\"ዪ\", \"ይ\")\n",
    "        string=string.replace(\"ጪ\", \"ጭ\")\n",
    "        string=string.replace(\"ዓ\", \"አ\")\n",
    "        string=string.replace(\"ዑ\", \"ኡ\")\n",
    "        string=string.replace(\"ዒ\", \"ኢ\")\n",
    "        string=string.replace(\"ዐ\", \"አ\")\n",
    "        string=string.replace(\"ኣ\", \"አ\")\n",
    "        string=string.replace(\"ዔ\", \"ኤ\")\n",
    "        string=string.replace(\"ዕ\", \"እ\")\n",
    "        string=string.replace(\"ዖ\", \"ኦ\")\n",
    "        string=string.replace(\"ኚ\", \"ኝ\")\n",
    "        string=string.replace(\"ሺ\", \"ሽ\")\n",
    "        #punctuation=\"!<<“…/\\@%&*.…._፦,.”?\\\\”\"\n",
    "        #for x in string:\n",
    "        #    if str(x) in punctuation:\n",
    "        #        string=string.replace(x,\"\")\n",
    "                    \n",
    "        return string\n"
   ]
  },
  {
   "cell_type": "code",
   "execution_count": 3,
   "id": "1cf0417b",
   "metadata": {},
   "outputs": [],
   "source": [
    "def sentence_tokenizer(s):\n",
    "    #sents=re.compile('።!?፡፡').split(s)\n",
    "    m=re.split(r\"['።!?፡፡]\",s)\n",
    "    \n",
    "    return m\n",
    "\n",
    "def word_tokenizer(s):\n",
    "    import re\n",
    "    tokens = re.findall(\"[\\w]+\", s)\n",
    "\n",
    "    return tokens\n",
    "\n",
    "def preprocess(s):\n",
    "    return [ w for w in str(s).split() ]\n",
    "def remove_punc_and_special_chars(sentence_input): # puct in amh =፡።፤;፦፧፨፠፣ \n",
    "        normalized_text = re.sub(r'[\\!\\@\\#\\$\\%\\^\\«\\»\\&\\*\\(\\)\\…\\[\\]\\{\\}\\;\\“\\”\\›\\’\\‘\\\"\\'\\:\\,\\.\\‹\\/\\<\\>\\?\\\\\\\\|\\`\\´\\~\\-\\=\\+\\፡\\።\\፤\\;\\፦\\፥\\፧\\፨\\፠\\፣\\፣\\\"\\\"]', '',sentence_input) \n",
    "        return normalized_text"
   ]
  },
  {
   "cell_type": "code",
   "execution_count": 46,
   "id": "3b295638",
   "metadata": {},
   "outputs": [],
   "source": [
    "text1=[]\n",
    "sentens=[]\n",
    "word=''\n",
    "with open(\"zenaall.txt\",encoding='utf-8') as file:\n",
    "      text=file.read()\n",
    "\n",
    "      s=sentence_tokenizer(text)\n",
    "      for sent in s:\n",
    "       # print(sent)\n",
    "        #sentence_tokenizer(sent)\n",
    "        remove_punc_and_special_chars(sent)\n",
    "        #rbe=re.sub(r'\\d{2}[/-]\\d{2}[/-]\\d{4}','', sent)\n",
    "        res = re.sub(r'\\d', '', sent)\n",
    "        b=re.sub(r\"/\",'',res)\n",
    "        remove_punc_and_special_chars(b)\n",
    "        sentens.append(b)\n",
    "        w=word_tokenizer(sent)\n",
    "        for wor in w:\n",
    "          wor1=word_tokenizer(str(wor))\n",
    "          k=remove_punc_and_special_chars(str(wor1))\n",
    "          u=normalize(k)\n",
    "          if u not in text1:\n",
    "             text1.append(u)\n",
    "with open(\"normlize6.txt\",'w',encoding='utf-8') as file:\n",
    "  word1=\"\\n\".join([str(i)for i in sentens ])+\"\\n\"\n",
    "  file.write(word1)\n"
   ]
  },
  {
   "cell_type": "code",
   "execution_count": 4,
   "id": "69a7e14c",
   "metadata": {},
   "outputs": [],
   "source": [
    "def get_expanded_query_w2v(model, q0, k=3):\n",
    "   \n",
    "    qe = []\n",
    "    tokenizer = RegexpTokenizer(r'\\w+')\n",
    "    query_token = tokenizer.tokenize(q0)\n",
    "    for word in query_token:\n",
    "        expanded_words = [pair[0] for pair in model.wv.most_similar(word)[:k]]\n",
    "        expanded_words.append(word)\n",
    "        qe.append(expanded_words)\n",
    "    return qe\n"
   ]
  },
  {
   "cell_type": "code",
   "execution_count": 13,
   "id": "14826841",
   "metadata": {},
   "outputs": [],
   "source": [
    "with open(\"normlize6.txt\",encoding='utf-8') as file:\n",
    "        stopwords= ['ነው','ላይ','ወደ' ,'እና','ስር' ,'ናቸው' ,'ውስጥ' ,'ሆነ' ,'ጋር', 'አቶ' ,'ቤት' ,'አም' ,'ደግሞ' , 'መሆኑን', 'ሲሆን', 'ነበር' ]\n",
    "        text2=file.read()\n",
    "        raw_sentences = text2.split('\\n')\n",
    "       \n",
    "        sentences = []\n",
    "        words=[]\n",
    "        for sentence in raw_sentences:\n",
    "            normalize(sentence)\n",
    "            #sentenceremove_punc_and_special_chars(sentence)\n",
    "            #if sentence not in sentences:\n",
    "            sentences.append(sentence.split()) \n",
    "        for word in sentences:\n",
    "            if  word  not in stopwords:\n",
    "                if len(word)>2:\n",
    "                    words.append(word)"
   ]
  },
  {
   "cell_type": "code",
   "execution_count": 14,
   "id": "49bc807e",
   "metadata": {},
   "outputs": [],
   "source": [
    "word=[word for word in words if word]"
   ]
  },
  {
   "cell_type": "code",
   "execution_count": 19,
   "id": "7992d7c9",
   "metadata": {},
   "outputs": [
    {
     "data": {
      "text/plain": [
       "225723"
      ]
     },
     "execution_count": 19,
     "metadata": {},
     "output_type": "execute_result"
    }
   ],
   "source": [
    "stopwords= ['ነው','ላይ','ወደ' ,'እና','ስር' ,'ናቸው' ,'ውስጥ' ,'ሆነ' ,'ጋር', 'አቶ' ,'ቤት' ,'አም' ,'ደግሞ' , 'መሆኑን', 'ሲሆን', 'ነበር' ]\n",
    "word1=[]\n",
    "for wor in word:\n",
    "    for we in wor:\n",
    "        if  we not in stopwords:\n",
    "            word1.append(wor)\n",
    "len(word1)"
   ]
  },
  {
   "cell_type": "code",
   "execution_count": 16,
   "id": "abc74b54",
   "metadata": {},
   "outputs": [],
   "source": [
    "w2v_model = word2vec.Word2Vec(word1, window=5, min_count=5, compute_loss=True,workers=1)"
   ]
  },
  {
   "cell_type": "code",
   "execution_count": 20,
   "id": "d07c6c6c",
   "metadata": {},
   "outputs": [
    {
     "name": "stdout",
     "output_type": "stream",
     "text": [
      "14380540.0\n"
     ]
    }
   ],
   "source": [
    "training_loss = w2v_model.get_latest_training_loss()\n",
    "print(training_loss)"
   ]
  },
  {
   "cell_type": "code",
   "execution_count": 22,
   "id": "36c75be4",
   "metadata": {},
   "outputs": [
    {
     "name": "stdout",
     "output_type": "stream",
     "text": [
      "(36295, 100)\n"
     ]
    },
    {
     "data": {
      "text/html": [
       "<div>\n",
       "<style scoped>\n",
       "    .dataframe tbody tr th:only-of-type {\n",
       "        vertical-align: middle;\n",
       "    }\n",
       "\n",
       "    .dataframe tbody tr th {\n",
       "        vertical-align: top;\n",
       "    }\n",
       "\n",
       "    .dataframe thead th {\n",
       "        text-align: right;\n",
       "    }\n",
       "</style>\n",
       "<table border=\"1\" class=\"dataframe\">\n",
       "  <thead>\n",
       "    <tr style=\"text-align: right;\">\n",
       "      <th></th>\n",
       "      <th>0</th>\n",
       "      <th>1</th>\n",
       "      <th>2</th>\n",
       "      <th>3</th>\n",
       "      <th>4</th>\n",
       "      <th>5</th>\n",
       "      <th>6</th>\n",
       "      <th>7</th>\n",
       "      <th>8</th>\n",
       "      <th>9</th>\n",
       "      <th>...</th>\n",
       "      <th>90</th>\n",
       "      <th>91</th>\n",
       "      <th>92</th>\n",
       "      <th>93</th>\n",
       "      <th>94</th>\n",
       "      <th>95</th>\n",
       "      <th>96</th>\n",
       "      <th>97</th>\n",
       "      <th>98</th>\n",
       "      <th>99</th>\n",
       "    </tr>\n",
       "  </thead>\n",
       "  <tbody>\n",
       "    <tr>\n",
       "      <th>ላይ</th>\n",
       "      <td>0.335538</td>\n",
       "      <td>-0.333088</td>\n",
       "      <td>3.057257</td>\n",
       "      <td>1.444559</td>\n",
       "      <td>-7.929892</td>\n",
       "      <td>-5.406643</td>\n",
       "      <td>-0.954927</td>\n",
       "      <td>1.486644</td>\n",
       "      <td>-4.808368</td>\n",
       "      <td>-3.126497</td>\n",
       "      <td>...</td>\n",
       "      <td>2.278251</td>\n",
       "      <td>0.222532</td>\n",
       "      <td>0.916295</td>\n",
       "      <td>1.858254</td>\n",
       "      <td>3.899480</td>\n",
       "      <td>-0.361458</td>\n",
       "      <td>-0.611356</td>\n",
       "      <td>-1.026761</td>\n",
       "      <td>-3.785629</td>\n",
       "      <td>-1.326400</td>\n",
       "    </tr>\n",
       "    <tr>\n",
       "      <th>ነው</th>\n",
       "      <td>-2.657378</td>\n",
       "      <td>-0.353000</td>\n",
       "      <td>-1.369226</td>\n",
       "      <td>1.991472</td>\n",
       "      <td>1.396392</td>\n",
       "      <td>-1.135315</td>\n",
       "      <td>1.843618</td>\n",
       "      <td>-1.352674</td>\n",
       "      <td>-2.835894</td>\n",
       "      <td>-3.697525</td>\n",
       "      <td>...</td>\n",
       "      <td>0.954033</td>\n",
       "      <td>0.883402</td>\n",
       "      <td>-1.900155</td>\n",
       "      <td>-3.527580</td>\n",
       "      <td>0.337800</td>\n",
       "      <td>-1.944489</td>\n",
       "      <td>2.034142</td>\n",
       "      <td>-0.482607</td>\n",
       "      <td>0.326163</td>\n",
       "      <td>0.613095</td>\n",
       "    </tr>\n",
       "    <tr>\n",
       "      <th>መሆኑን</th>\n",
       "      <td>-1.674627</td>\n",
       "      <td>-0.536252</td>\n",
       "      <td>-4.927155</td>\n",
       "      <td>-0.253205</td>\n",
       "      <td>0.099984</td>\n",
       "      <td>0.101294</td>\n",
       "      <td>-0.404713</td>\n",
       "      <td>-2.787907</td>\n",
       "      <td>-2.014559</td>\n",
       "      <td>-2.348991</td>\n",
       "      <td>...</td>\n",
       "      <td>0.176843</td>\n",
       "      <td>0.733138</td>\n",
       "      <td>1.776379</td>\n",
       "      <td>-1.526838</td>\n",
       "      <td>1.721558</td>\n",
       "      <td>-2.580462</td>\n",
       "      <td>-1.302433</td>\n",
       "      <td>2.641249</td>\n",
       "      <td>2.931693</td>\n",
       "      <td>-0.861601</td>\n",
       "    </tr>\n",
       "    <tr>\n",
       "      <th>ቴክኖሎጂ</th>\n",
       "      <td>-1.483726</td>\n",
       "      <td>0.941899</td>\n",
       "      <td>1.062234</td>\n",
       "      <td>1.485819</td>\n",
       "      <td>-3.627284</td>\n",
       "      <td>4.473442</td>\n",
       "      <td>-0.941392</td>\n",
       "      <td>-1.404223</td>\n",
       "      <td>1.299132</td>\n",
       "      <td>-0.408307</td>\n",
       "      <td>...</td>\n",
       "      <td>-4.388155</td>\n",
       "      <td>2.094541</td>\n",
       "      <td>2.260334</td>\n",
       "      <td>4.078636</td>\n",
       "      <td>3.529755</td>\n",
       "      <td>5.474466</td>\n",
       "      <td>-3.827312</td>\n",
       "      <td>1.314187</td>\n",
       "      <td>0.215698</td>\n",
       "      <td>-1.609599</td>\n",
       "    </tr>\n",
       "    <tr>\n",
       "      <th>ብለዋል</th>\n",
       "      <td>-2.905288</td>\n",
       "      <td>3.127589</td>\n",
       "      <td>-2.497850</td>\n",
       "      <td>1.931436</td>\n",
       "      <td>-0.524670</td>\n",
       "      <td>1.431848</td>\n",
       "      <td>-0.966218</td>\n",
       "      <td>-3.506471</td>\n",
       "      <td>-1.411256</td>\n",
       "      <td>-0.062206</td>\n",
       "      <td>...</td>\n",
       "      <td>0.035586</td>\n",
       "      <td>-0.958069</td>\n",
       "      <td>3.521479</td>\n",
       "      <td>-4.619480</td>\n",
       "      <td>-1.557519</td>\n",
       "      <td>-5.397670</td>\n",
       "      <td>2.864337</td>\n",
       "      <td>-1.303281</td>\n",
       "      <td>-0.261071</td>\n",
       "      <td>-2.201525</td>\n",
       "    </tr>\n",
       "  </tbody>\n",
       "</table>\n",
       "<p>5 rows × 100 columns</p>\n",
       "</div>"
      ],
      "text/plain": [
       "             0         1         2         3         4         5         6   \\\n",
       "ላይ     0.335538 -0.333088  3.057257  1.444559 -7.929892 -5.406643 -0.954927   \n",
       "ነው    -2.657378 -0.353000 -1.369226  1.991472  1.396392 -1.135315  1.843618   \n",
       "መሆኑን  -1.674627 -0.536252 -4.927155 -0.253205  0.099984  0.101294 -0.404713   \n",
       "ቴክኖሎጂ -1.483726  0.941899  1.062234  1.485819 -3.627284  4.473442 -0.941392   \n",
       "ብለዋል  -2.905288  3.127589 -2.497850  1.931436 -0.524670  1.431848 -0.966218   \n",
       "\n",
       "             7         8         9   ...        90        91        92  \\\n",
       "ላይ     1.486644 -4.808368 -3.126497  ...  2.278251  0.222532  0.916295   \n",
       "ነው    -1.352674 -2.835894 -3.697525  ...  0.954033  0.883402 -1.900155   \n",
       "መሆኑን  -2.787907 -2.014559 -2.348991  ...  0.176843  0.733138  1.776379   \n",
       "ቴክኖሎጂ -1.404223  1.299132 -0.408307  ... -4.388155  2.094541  2.260334   \n",
       "ብለዋል  -3.506471 -1.411256 -0.062206  ...  0.035586 -0.958069  3.521479   \n",
       "\n",
       "             93        94        95        96        97        98        99  \n",
       "ላይ     1.858254  3.899480 -0.361458 -0.611356 -1.026761 -3.785629 -1.326400  \n",
       "ነው    -3.527580  0.337800 -1.944489  2.034142 -0.482607  0.326163  0.613095  \n",
       "መሆኑን  -1.526838  1.721558 -2.580462 -1.302433  2.641249  2.931693 -0.861601  \n",
       "ቴክኖሎጂ  4.078636  3.529755  5.474466 -3.827312  1.314187  0.215698 -1.609599  \n",
       "ብለዋል  -4.619480 -1.557519 -5.397670  2.864337 -1.303281 -0.261071 -2.201525  \n",
       "\n",
       "[5 rows x 100 columns]"
      ]
     },
     "execution_count": 22,
     "metadata": {},
     "output_type": "execute_result"
    }
   ],
   "source": [
    "emb_df = (\n",
    "    pd.DataFrame(\n",
    "        [w2v_model.wv.get_vector(str(n)) for n in w2v_model.wv.key_to_index],\n",
    "        index = w2v_model.wv.key_to_index\n",
    "    )\n",
    ")\n",
    "print(emb_df.shape)\n",
    "emb_df.head()"
   ]
  },
  {
   "cell_type": "code",
   "execution_count": 23,
   "id": "cb31ef70",
   "metadata": {},
   "outputs": [
    {
     "data": {
      "text/plain": [
       "[('ዘር', 0.8061568737030029),\n",
       " ('የምርጥ', 0.7231376767158508),\n",
       " ('“ካገኘሁት', 0.6783792972564697),\n",
       " ('የአልጌ', 0.6752832531929016),\n",
       " ('“ምርጥ', 0.6699410080909729),\n",
       " ('የእንቁ', 0.6583956480026245),\n",
       " ('እያለሙ', 0.6553928256034851),\n",
       " ('ዘርተው', 0.6529733538627625),\n",
       " ('የሚዘራ', 0.6422377824783325),\n",
       " ('የዓመቱ', 0.6356155872344971)]"
      ]
     },
     "execution_count": 23,
     "metadata": {},
     "output_type": "execute_result"
    }
   ],
   "source": [
    "w2v_model.wv.most_similar('ምርጥ')"
   ]
  },
  {
   "cell_type": "code",
   "execution_count": 97,
   "id": "a367e942",
   "metadata": {},
   "outputs": [
    {
     "data": {
      "text/plain": [
       "[]"
      ]
     },
     "execution_count": 97,
     "metadata": {},
     "output_type": "execute_result"
    },
    {
     "data": {
      "text/plain": [
       "<Figure size 1280x880 with 0 Axes>"
      ]
     },
     "metadata": {},
     "output_type": "display_data"
    },
    {
     "data": {
      "image/png": "[encoded data removed]",
      "text/plain": [
       "<Figure size 600x400 with 1 Axes>"
      ]
     },
     "metadata": {},
     "output_type": "display_data"
    }
   ],
   "source": [
    "from sklearn.decomposition import PCA\n",
    "pca = PCA(n_components=2, random_state=7)\n",
    "pca_mdl = pca.fit_transform(emb_df)\n",
    "\n",
    "emb_df_PCA = (\n",
    "    pd.DataFrame(\n",
    "        pca_mdl,\n",
    "        columns=['x','y'],\n",
    "        index = emb_df.index\n",
    "    )\n",
    ")\n",
    "\n",
    "plt.clf()\n",
    "fig = plt.figure(figsize=(6,4))\n",
    "\n",
    "plt.scatter(\n",
    "    x = emb_df_PCA['x'],\n",
    "    y = emb_df_PCA['y'],\n",
    "    s = 0.4,\n",
    "    color = 'maroon',\n",
    "    alpha = 0.5\n",
    ")\n",
    "\n",
    "plt.xlabel('PCA-1')\n",
    "plt.ylabel('PCA-2')\n",
    "plt.title('PCA Visualization')\n",
    "plt.plot()"
   ]
  },
  {
   "cell_type": "code",
   "execution_count": 24,
   "id": "f01736c7",
   "metadata": {},
   "outputs": [],
   "source": [
    "start_query = \"ምርጥ  ሰብል\""
   ]
  },
  {
   "cell_type": "code",
   "execution_count": 25,
   "id": "b9e718b4",
   "metadata": {},
   "outputs": [],
   "source": [
    "from nltk.tokenize import RegexpTokenizer\n",
    "qe_w2v = get_expanded_query_w2v(w2v_model, start_query, k=3)"
   ]
  },
  {
   "cell_type": "code",
   "execution_count": 26,
   "id": "6b027743",
   "metadata": {},
   "outputs": [
    {
     "data": {
      "text/plain": [
       "[['ዘር', 'የምርጥ', '“ካገኘሁት', 'ምርጥ'], ['የእንቁ', 'ዘርተው', 'ኩታ', 'ሰብል']]"
      ]
     },
     "execution_count": 26,
     "metadata": {},
     "output_type": "execute_result"
    }
   ],
   "source": [
    "qe_w2v"
   ]
  },
  {
   "cell_type": "code",
   "execution_count": 27,
   "id": "c812ce73",
   "metadata": {},
   "outputs": [],
   "source": [
    "import re\n",
    "from nltk.tokenize import RegexpTokenizer\n",
    "def query_expansion(query,k):\n",
    "    tokenizer = RegexpTokenizer(r'\\w+')\n",
    "    query_token = tokenizer.tokenize(query)\n",
    "    expanded_query = []\n",
    "    for word in query_token:\n",
    "        #most_similar_words = w2v_model.wv.most_similar(word, topn=3)\n",
    "        expanded_words = [pair[0] for pair in w2v_model.wv.most_similar(word)[:k]]\n",
    "        #expanded_words.append(word)\n",
    "      \n",
    "        expanded_query.append(expanded_words)\n",
    "        #print(expanded_query)\n",
    "       \n",
    "    return expanded_query"
   ]
  },
  {
   "cell_type": "code",
   "execution_count": 28,
   "id": "85c52fe3",
   "metadata": {},
   "outputs": [
    {
     "name": "stdout",
     "output_type": "stream",
     "text": [
      "[['ዘር', 'የምርጥ', '“ካገኘሁት'], ['ዝርያዎች', 'የሰብልና', 'የተሻሻሉ']]\n"
     ]
    }
   ],
   "source": [
    "expanded_query = query_expansion('ምርጥ የሰብል',3)\n",
    "print(expanded_query)"
   ]
  },
  {
   "cell_type": "code",
   "execution_count": null,
   "id": "9cfe0ed8",
   "metadata": {},
   "outputs": [],
   "source": []
  }
 ],
 "metadata": {
  "kernelspec": {
   "display_name": "Python 3 (ipykernel)",
   "language": "python",
   "name": "python3"
  },
  "language_info": {
   "codemirror_mode": {
    "name": "ipython",
    "version": 3
   },
   "file_extension": ".py",
   "mimetype": "text/x-python",
   "name": "python",
   "nbconvert_exporter": "python",
   "pygments_lexer": "ipython3",
   "version": "3.9.13"
  }
 },
 "nbformat": 4,
 "nbformat_minor": 5
}
